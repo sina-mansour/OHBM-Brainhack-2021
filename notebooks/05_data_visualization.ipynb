{
 "cells": [
  {
   "cell_type": "markdown",
   "id": "retained-freight",
   "metadata": {},
   "source": [
    "# Hands-on session: Machine Learning & Data Visualization\n",
    "---\n",
    "## 5 - Data Visualization\n",
    "---\n"
   ]
  },
  {
   "cell_type": "markdown",
   "id": "annoying-stocks",
   "metadata": {
    "tags": []
   },
   "source": [
    "How do I run this?\n",
    "\n",
    "[![Open In Colab](https://colab.research.google.com/assets/colab-badge.svg)](https://colab.research.google.com/github/sina-mansour/OHBM-Brainhack-2021)\n",
    "\n",
    "Gitpod?\n",
    "\n",
    "Binder?\n",
    "\n",
    "---"
   ]
  },
  {
   "cell_type": "markdown",
   "id": "patent-visitor",
   "metadata": {},
   "source": [
    "\n",
    "## Scatter plots"
   ]
  },
  {
   "cell_type": "markdown",
   "id": "active-swaziland",
   "metadata": {},
   "source": [
    "---\n",
    "## Line plots"
   ]
  },
  {
   "cell_type": "markdown",
   "id": "specialized-mechanics",
   "metadata": {},
   "source": [
    "---\n",
    "## Histograms"
   ]
  },
  {
   "cell_type": "markdown",
   "id": "historical-pickup",
   "metadata": {},
   "source": [
    "---\n",
    "## Subplots and overlays"
   ]
  },
  {
   "cell_type": "markdown",
   "id": "fewer-machine",
   "metadata": {},
   "source": [
    "---\n",
    "## Neuroimaging visualizations"
   ]
  },
  {
   "cell_type": "markdown",
   "id": "opened-therapy",
   "metadata": {},
   "source": []
  }
 ],
 "metadata": {
  "kernelspec": {
   "display_name": "Python 3",
   "language": "python",
   "name": "python3"
  },
  "language_info": {
   "codemirror_mode": {
    "name": "ipython",
    "version": 3
   },
   "file_extension": ".py",
   "mimetype": "text/x-python",
   "name": "python",
   "nbconvert_exporter": "python",
   "pygments_lexer": "ipython3",
   "version": "3.8.5"
  }
 },
 "nbformat": 4,
 "nbformat_minor": 5
}
