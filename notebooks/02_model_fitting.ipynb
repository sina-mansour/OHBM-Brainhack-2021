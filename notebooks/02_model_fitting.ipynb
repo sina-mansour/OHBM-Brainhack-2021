{
 "cells": [
  {
   "cell_type": "markdown",
   "id": "grand-bermuda",
   "metadata": {},
   "source": [
    "# Hands-on session: Machine Learning & Data Visualization\n",
    "---\n",
    "## 2 - Fitting ML models\n",
    "---\n"
   ]
  },
  {
   "cell_type": "markdown",
   "id": "closing-rental",
   "metadata": {
    "tags": []
   },
   "source": [
    "How do I run this?\n",
    "\n",
    "[![Open In Colab](https://colab.research.google.com/assets/colab-badge.svg)](https://colab.research.google.com/github/sina-mansour/OHBM-Brainhack-2021)\n",
    "\n",
    "Gitpod?\n",
    "\n",
    "Binder?\n",
    "\n",
    "---"
   ]
  },
  {
   "cell_type": "markdown",
   "id": "unusual-control",
   "metadata": {},
   "source": [
    "package installation for google colab:"
   ]
  },
  {
   "cell_type": "code",
   "execution_count": null,
   "id": "native-punishment",
   "metadata": {},
   "outputs": [],
   "source": [
    "# install required packages for colab\n",
    "!pip install -r ../colab/requirements.txt\n"
   ]
  },
  {
   "cell_type": "markdown",
   "id": "removed-slave",
   "metadata": {},
   "source": [
    "---\n",
    "\n",
    "Loading packages"
   ]
  },
  {
   "cell_type": "code",
   "execution_count": 1,
   "id": "nearby-bullet",
   "metadata": {},
   "outputs": [],
   "source": [
    "# pandas for data handling\n",
    "import pandas as pd\n",
    "\n",
    "# matplotlib and seaborn for data visualization\n",
    "import matplotlib\n",
    "import matplotlib.pyplot as plt\n",
    "import seaborn as sns\n",
    "\n",
    "# setup inline plotting for jupyter\n",
    "%matplotlib inline\n",
    "\n",
    "# numpy for mathematical operations of data\n",
    "import numpy as np\n",
    "\n",
    "# nilearn and nibabel for handling neuroimaging data\n",
    "import nilearn.datasets as nidata\n",
    "import nilearn.plotting as niplot\n",
    "import nibabel as nib\n",
    "\n",
    "# sklearn is python's base of operations for everything ML\n",
    "import sklearn\n",
    "\n",
    "# statsmodels is more of an statistical inference toolbox for python\n",
    "import statsmodels\n",
    "\n"
   ]
  },
  {
   "cell_type": "markdown",
   "id": "determined-driving",
   "metadata": {},
   "source": [
    "---\n",
    "\n",
    "## Train-Test splitting; data leakage!\n",
    "\n",
    "Before we begin our journey of Machine learning, we need understand the very basic terminologies on **samples** and **features**. We also need to cover what we mean by train vs. test splitting, and how it should be implemented."
   ]
  },
  {
   "cell_type": "markdown",
   "id": "printable-accused",
   "metadata": {},
   "source": [
    "### Representation of Data in [Scikit-learn](https://github.com/scikit-learn/scikit-learn)\n",
    "\n",
    "Most machine learning algorithms implemented in scikit-learn expect data to be stored in a **two-dimensional array or matrix**. The arrays can be either ``numpy`` arrays, or pandas ``dataframe`` objects, or in some cases ``scipy.sparse`` matrices. The size of the array is expected to be `[n_samples, n_features]`\n",
    "\n",
    "- **n_samples:**   The number of samples: each sample is an item to process (e.g. classify). A sample can be a document, a picture, a sound, a video, an astronomical object, a row in database or CSV file, or whatever you can describe with a fixed set of quantitative traits.\n",
    "- **n_features:**  The number of features or distinct traits that can be used to describe each item in a quantitative manner.  Features are generally real-valued, but may be boolean or discrete-valued in some cases.\n",
    "\n",
    "The number of features must be fixed in advance. However it can be very high dimensional (e.g. millions of features) with most of them being zeros for a given sample. This is a case where `scipy.sparse` matrices can be useful, in that they are much more memory-efficient than numpy arrays."
   ]
  },
  {
   "cell_type": "markdown",
   "id": "banned-aerospace",
   "metadata": {},
   "source": [
    "<img src=\"../static/image6.png\" alt=\"Data Layout\" style=\"width: 600px;\"/>\n",
    "\n",
    "(Figure from the [Python Data Science Handbook](https://github.com/jakevdp/PythonDataScienceHandbook))"
   ]
  },
  {
   "cell_type": "markdown",
   "id": "cognitive-momentum",
   "metadata": {},
   "source": [
    "Now, let's try and extract the features matrix from the abide data for later use."
   ]
  },
  {
   "cell_type": "code",
   "execution_count": 2,
   "id": "bigger-clock",
   "metadata": {},
   "outputs": [
    {
     "data": {
      "text/html": [
       "<div>\n",
       "<style scoped>\n",
       "    .dataframe tbody tr th:only-of-type {\n",
       "        vertical-align: middle;\n",
       "    }\n",
       "\n",
       "    .dataframe tbody tr th {\n",
       "        vertical-align: top;\n",
       "    }\n",
       "\n",
       "    .dataframe thead th {\n",
       "        text-align: right;\n",
       "    }\n",
       "</style>\n",
       "<table border=\"1\" class=\"dataframe\">\n",
       "  <thead>\n",
       "    <tr style=\"text-align: right;\">\n",
       "      <th></th>\n",
       "      <th>site</th>\n",
       "      <th>subject</th>\n",
       "      <th>age</th>\n",
       "      <th>age_resid</th>\n",
       "      <th>sex</th>\n",
       "      <th>group</th>\n",
       "      <th>fsArea_L_V1_ROI</th>\n",
       "      <th>fsArea_L_MST_ROI</th>\n",
       "      <th>fsArea_L_V6_ROI</th>\n",
       "      <th>fsArea_L_V2_ROI</th>\n",
       "      <th>...</th>\n",
       "      <th>fsCT_R_p47r_ROI</th>\n",
       "      <th>fsCT_R_TGv_ROI</th>\n",
       "      <th>fsCT_R_MBelt_ROI</th>\n",
       "      <th>fsCT_R_LBelt_ROI</th>\n",
       "      <th>fsCT_R_A4_ROI</th>\n",
       "      <th>fsCT_R_STSva_ROI</th>\n",
       "      <th>fsCT_R_TE1m_ROI</th>\n",
       "      <th>fsCT_R_PI_ROI</th>\n",
       "      <th>fsCT_R_a32pr_ROI</th>\n",
       "      <th>fsCT_R_p24_ROI</th>\n",
       "    </tr>\n",
       "  </thead>\n",
       "  <tbody>\n",
       "    <tr>\n",
       "      <th>0</th>\n",
       "      <td>ABIDEII-KKI_1</td>\n",
       "      <td>29293</td>\n",
       "      <td>8.893151</td>\n",
       "      <td>13.642852</td>\n",
       "      <td>2.0</td>\n",
       "      <td>1.0</td>\n",
       "      <td>2750.0</td>\n",
       "      <td>306.0</td>\n",
       "      <td>354.0</td>\n",
       "      <td>2123.0</td>\n",
       "      <td>...</td>\n",
       "      <td>3.362</td>\n",
       "      <td>2.827</td>\n",
       "      <td>2.777</td>\n",
       "      <td>2.526</td>\n",
       "      <td>3.202</td>\n",
       "      <td>3.024</td>\n",
       "      <td>3.354</td>\n",
       "      <td>2.629</td>\n",
       "      <td>2.699</td>\n",
       "      <td>3.179</td>\n",
       "    </tr>\n",
       "    <tr>\n",
       "      <th>1</th>\n",
       "      <td>ABIDEII-OHSU_1</td>\n",
       "      <td>28997</td>\n",
       "      <td>12.000000</td>\n",
       "      <td>16.081732</td>\n",
       "      <td>2.0</td>\n",
       "      <td>1.0</td>\n",
       "      <td>2836.0</td>\n",
       "      <td>186.0</td>\n",
       "      <td>354.0</td>\n",
       "      <td>2261.0</td>\n",
       "      <td>...</td>\n",
       "      <td>2.809</td>\n",
       "      <td>3.539</td>\n",
       "      <td>2.944</td>\n",
       "      <td>2.769</td>\n",
       "      <td>3.530</td>\n",
       "      <td>3.079</td>\n",
       "      <td>3.282</td>\n",
       "      <td>2.670</td>\n",
       "      <td>2.746</td>\n",
       "      <td>3.324</td>\n",
       "    </tr>\n",
       "    <tr>\n",
       "      <th>2</th>\n",
       "      <td>ABIDEII-GU_1</td>\n",
       "      <td>28845</td>\n",
       "      <td>8.390000</td>\n",
       "      <td>12.866264</td>\n",
       "      <td>1.0</td>\n",
       "      <td>2.0</td>\n",
       "      <td>3394.0</td>\n",
       "      <td>223.0</td>\n",
       "      <td>373.0</td>\n",
       "      <td>2827.0</td>\n",
       "      <td>...</td>\n",
       "      <td>2.435</td>\n",
       "      <td>3.321</td>\n",
       "      <td>2.799</td>\n",
       "      <td>2.388</td>\n",
       "      <td>3.148</td>\n",
       "      <td>3.125</td>\n",
       "      <td>3.116</td>\n",
       "      <td>2.891</td>\n",
       "      <td>2.940</td>\n",
       "      <td>3.232</td>\n",
       "    </tr>\n",
       "    <tr>\n",
       "      <th>3</th>\n",
       "      <td>ABIDEII-NYU_1</td>\n",
       "      <td>29210</td>\n",
       "      <td>8.300000</td>\n",
       "      <td>13.698139</td>\n",
       "      <td>1.0</td>\n",
       "      <td>1.0</td>\n",
       "      <td>3382.0</td>\n",
       "      <td>266.0</td>\n",
       "      <td>422.0</td>\n",
       "      <td>2686.0</td>\n",
       "      <td>...</td>\n",
       "      <td>3.349</td>\n",
       "      <td>3.344</td>\n",
       "      <td>2.694</td>\n",
       "      <td>3.030</td>\n",
       "      <td>3.258</td>\n",
       "      <td>2.774</td>\n",
       "      <td>3.383</td>\n",
       "      <td>2.696</td>\n",
       "      <td>3.014</td>\n",
       "      <td>3.264</td>\n",
       "    </tr>\n",
       "    <tr>\n",
       "      <th>4</th>\n",
       "      <td>ABIDEII-EMC_1</td>\n",
       "      <td>29894</td>\n",
       "      <td>7.772758</td>\n",
       "      <td>14.772459</td>\n",
       "      <td>2.0</td>\n",
       "      <td>2.0</td>\n",
       "      <td>3080.0</td>\n",
       "      <td>161.0</td>\n",
       "      <td>346.0</td>\n",
       "      <td>2105.0</td>\n",
       "      <td>...</td>\n",
       "      <td>2.428</td>\n",
       "      <td>2.940</td>\n",
       "      <td>2.809</td>\n",
       "      <td>2.607</td>\n",
       "      <td>3.430</td>\n",
       "      <td>2.752</td>\n",
       "      <td>2.645</td>\n",
       "      <td>3.111</td>\n",
       "      <td>3.219</td>\n",
       "      <td>4.128</td>\n",
       "    </tr>\n",
       "  </tbody>\n",
       "</table>\n",
       "<p>5 rows × 1446 columns</p>\n",
       "</div>"
      ],
      "text/plain": [
       "             site  subject        age  age_resid  sex  group  fsArea_L_V1_ROI  \\\n",
       "0   ABIDEII-KKI_1    29293   8.893151  13.642852  2.0    1.0           2750.0   \n",
       "1  ABIDEII-OHSU_1    28997  12.000000  16.081732  2.0    1.0           2836.0   \n",
       "2    ABIDEII-GU_1    28845   8.390000  12.866264  1.0    2.0           3394.0   \n",
       "3   ABIDEII-NYU_1    29210   8.300000  13.698139  1.0    1.0           3382.0   \n",
       "4   ABIDEII-EMC_1    29894   7.772758  14.772459  2.0    2.0           3080.0   \n",
       "\n",
       "   fsArea_L_MST_ROI  fsArea_L_V6_ROI  fsArea_L_V2_ROI  ...  fsCT_R_p47r_ROI  \\\n",
       "0             306.0            354.0           2123.0  ...            3.362   \n",
       "1             186.0            354.0           2261.0  ...            2.809   \n",
       "2             223.0            373.0           2827.0  ...            2.435   \n",
       "3             266.0            422.0           2686.0  ...            3.349   \n",
       "4             161.0            346.0           2105.0  ...            2.428   \n",
       "\n",
       "   fsCT_R_TGv_ROI  fsCT_R_MBelt_ROI  fsCT_R_LBelt_ROI  fsCT_R_A4_ROI  \\\n",
       "0           2.827             2.777             2.526          3.202   \n",
       "1           3.539             2.944             2.769          3.530   \n",
       "2           3.321             2.799             2.388          3.148   \n",
       "3           3.344             2.694             3.030          3.258   \n",
       "4           2.940             2.809             2.607          3.430   \n",
       "\n",
       "   fsCT_R_STSva_ROI  fsCT_R_TE1m_ROI  fsCT_R_PI_ROI  fsCT_R_a32pr_ROI  \\\n",
       "0             3.024            3.354          2.629             2.699   \n",
       "1             3.079            3.282          2.670             2.746   \n",
       "2             3.125            3.116          2.891             2.940   \n",
       "3             2.774            3.383          2.696             3.014   \n",
       "4             2.752            2.645          3.111             3.219   \n",
       "\n",
       "   fsCT_R_p24_ROI  \n",
       "0           3.179  \n",
       "1           3.324  \n",
       "2           3.232  \n",
       "3           3.264  \n",
       "4           4.128  \n",
       "\n",
       "[5 rows x 1446 columns]"
      ]
     },
     "execution_count": 2,
     "metadata": {},
     "output_type": "execute_result"
    }
   ],
   "source": [
    "# load the data from file\n",
    "data = pd.read_csv('../data/abide2.tsv', sep='\\t')\n",
    "\n",
    "# inspect the first few rows\n",
    "data.head()\n"
   ]
  },
  {
   "cell_type": "markdown",
   "id": "comprehensive-design",
   "metadata": {},
   "source": [
    "We aim to use the brain data as the training feature set:"
   ]
  },
  {
   "cell_type": "code",
   "execution_count": 3,
   "id": "irish-wiring",
   "metadata": {},
   "outputs": [
    {
     "data": {
      "text/html": [
       "<div>\n",
       "<style scoped>\n",
       "    .dataframe tbody tr th:only-of-type {\n",
       "        vertical-align: middle;\n",
       "    }\n",
       "\n",
       "    .dataframe tbody tr th {\n",
       "        vertical-align: top;\n",
       "    }\n",
       "\n",
       "    .dataframe thead th {\n",
       "        text-align: right;\n",
       "    }\n",
       "</style>\n",
       "<table border=\"1\" class=\"dataframe\">\n",
       "  <thead>\n",
       "    <tr style=\"text-align: right;\">\n",
       "      <th></th>\n",
       "      <th>fsArea_L_V1_ROI</th>\n",
       "      <th>fsArea_L_MST_ROI</th>\n",
       "      <th>fsArea_L_V6_ROI</th>\n",
       "      <th>fsArea_L_V2_ROI</th>\n",
       "      <th>fsArea_L_V3_ROI</th>\n",
       "      <th>fsArea_L_V4_ROI</th>\n",
       "      <th>fsArea_L_V8_ROI</th>\n",
       "      <th>fsArea_L_4_ROI</th>\n",
       "      <th>fsArea_L_3b_ROI</th>\n",
       "      <th>fsArea_L_FEF_ROI</th>\n",
       "      <th>...</th>\n",
       "      <th>fsCT_R_p47r_ROI</th>\n",
       "      <th>fsCT_R_TGv_ROI</th>\n",
       "      <th>fsCT_R_MBelt_ROI</th>\n",
       "      <th>fsCT_R_LBelt_ROI</th>\n",
       "      <th>fsCT_R_A4_ROI</th>\n",
       "      <th>fsCT_R_STSva_ROI</th>\n",
       "      <th>fsCT_R_TE1m_ROI</th>\n",
       "      <th>fsCT_R_PI_ROI</th>\n",
       "      <th>fsCT_R_a32pr_ROI</th>\n",
       "      <th>fsCT_R_p24_ROI</th>\n",
       "    </tr>\n",
       "  </thead>\n",
       "  <tbody>\n",
       "    <tr>\n",
       "      <th>0</th>\n",
       "      <td>2750.0</td>\n",
       "      <td>306.0</td>\n",
       "      <td>354.0</td>\n",
       "      <td>2123.0</td>\n",
       "      <td>1451.0</td>\n",
       "      <td>1128.0</td>\n",
       "      <td>269.0</td>\n",
       "      <td>1751.0</td>\n",
       "      <td>1338.0</td>\n",
       "      <td>632.0</td>\n",
       "      <td>...</td>\n",
       "      <td>3.362</td>\n",
       "      <td>2.827</td>\n",
       "      <td>2.777</td>\n",
       "      <td>2.526</td>\n",
       "      <td>3.202</td>\n",
       "      <td>3.024</td>\n",
       "      <td>3.354</td>\n",
       "      <td>2.629</td>\n",
       "      <td>2.699</td>\n",
       "      <td>3.179</td>\n",
       "    </tr>\n",
       "    <tr>\n",
       "      <th>1</th>\n",
       "      <td>2836.0</td>\n",
       "      <td>186.0</td>\n",
       "      <td>354.0</td>\n",
       "      <td>2261.0</td>\n",
       "      <td>1584.0</td>\n",
       "      <td>1241.0</td>\n",
       "      <td>259.0</td>\n",
       "      <td>1521.0</td>\n",
       "      <td>1105.0</td>\n",
       "      <td>302.0</td>\n",
       "      <td>...</td>\n",
       "      <td>2.809</td>\n",
       "      <td>3.539</td>\n",
       "      <td>2.944</td>\n",
       "      <td>2.769</td>\n",
       "      <td>3.530</td>\n",
       "      <td>3.079</td>\n",
       "      <td>3.282</td>\n",
       "      <td>2.670</td>\n",
       "      <td>2.746</td>\n",
       "      <td>3.324</td>\n",
       "    </tr>\n",
       "    <tr>\n",
       "      <th>2</th>\n",
       "      <td>3394.0</td>\n",
       "      <td>223.0</td>\n",
       "      <td>373.0</td>\n",
       "      <td>2827.0</td>\n",
       "      <td>1816.0</td>\n",
       "      <td>1299.0</td>\n",
       "      <td>221.0</td>\n",
       "      <td>1657.0</td>\n",
       "      <td>1374.0</td>\n",
       "      <td>456.0</td>\n",
       "      <td>...</td>\n",
       "      <td>2.435</td>\n",
       "      <td>3.321</td>\n",
       "      <td>2.799</td>\n",
       "      <td>2.388</td>\n",
       "      <td>3.148</td>\n",
       "      <td>3.125</td>\n",
       "      <td>3.116</td>\n",
       "      <td>2.891</td>\n",
       "      <td>2.940</td>\n",
       "      <td>3.232</td>\n",
       "    </tr>\n",
       "    <tr>\n",
       "      <th>3</th>\n",
       "      <td>3382.0</td>\n",
       "      <td>266.0</td>\n",
       "      <td>422.0</td>\n",
       "      <td>2686.0</td>\n",
       "      <td>1893.0</td>\n",
       "      <td>1359.0</td>\n",
       "      <td>234.0</td>\n",
       "      <td>1889.0</td>\n",
       "      <td>1545.0</td>\n",
       "      <td>407.0</td>\n",
       "      <td>...</td>\n",
       "      <td>3.349</td>\n",
       "      <td>3.344</td>\n",
       "      <td>2.694</td>\n",
       "      <td>3.030</td>\n",
       "      <td>3.258</td>\n",
       "      <td>2.774</td>\n",
       "      <td>3.383</td>\n",
       "      <td>2.696</td>\n",
       "      <td>3.014</td>\n",
       "      <td>3.264</td>\n",
       "    </tr>\n",
       "    <tr>\n",
       "      <th>4</th>\n",
       "      <td>3080.0</td>\n",
       "      <td>161.0</td>\n",
       "      <td>346.0</td>\n",
       "      <td>2105.0</td>\n",
       "      <td>1307.0</td>\n",
       "      <td>1004.0</td>\n",
       "      <td>254.0</td>\n",
       "      <td>1334.0</td>\n",
       "      <td>985.0</td>\n",
       "      <td>315.0</td>\n",
       "      <td>...</td>\n",
       "      <td>2.428</td>\n",
       "      <td>2.940</td>\n",
       "      <td>2.809</td>\n",
       "      <td>2.607</td>\n",
       "      <td>3.430</td>\n",
       "      <td>2.752</td>\n",
       "      <td>2.645</td>\n",
       "      <td>3.111</td>\n",
       "      <td>3.219</td>\n",
       "      <td>4.128</td>\n",
       "    </tr>\n",
       "  </tbody>\n",
       "</table>\n",
       "<p>5 rows × 1440 columns</p>\n",
       "</div>"
      ],
      "text/plain": [
       "   fsArea_L_V1_ROI  fsArea_L_MST_ROI  fsArea_L_V6_ROI  fsArea_L_V2_ROI  \\\n",
       "0           2750.0             306.0            354.0           2123.0   \n",
       "1           2836.0             186.0            354.0           2261.0   \n",
       "2           3394.0             223.0            373.0           2827.0   \n",
       "3           3382.0             266.0            422.0           2686.0   \n",
       "4           3080.0             161.0            346.0           2105.0   \n",
       "\n",
       "   fsArea_L_V3_ROI  fsArea_L_V4_ROI  fsArea_L_V8_ROI  fsArea_L_4_ROI  \\\n",
       "0           1451.0           1128.0            269.0          1751.0   \n",
       "1           1584.0           1241.0            259.0          1521.0   \n",
       "2           1816.0           1299.0            221.0          1657.0   \n",
       "3           1893.0           1359.0            234.0          1889.0   \n",
       "4           1307.0           1004.0            254.0          1334.0   \n",
       "\n",
       "   fsArea_L_3b_ROI  fsArea_L_FEF_ROI  ...  fsCT_R_p47r_ROI  fsCT_R_TGv_ROI  \\\n",
       "0           1338.0             632.0  ...            3.362           2.827   \n",
       "1           1105.0             302.0  ...            2.809           3.539   \n",
       "2           1374.0             456.0  ...            2.435           3.321   \n",
       "3           1545.0             407.0  ...            3.349           3.344   \n",
       "4            985.0             315.0  ...            2.428           2.940   \n",
       "\n",
       "   fsCT_R_MBelt_ROI  fsCT_R_LBelt_ROI  fsCT_R_A4_ROI  fsCT_R_STSva_ROI  \\\n",
       "0             2.777             2.526          3.202             3.024   \n",
       "1             2.944             2.769          3.530             3.079   \n",
       "2             2.799             2.388          3.148             3.125   \n",
       "3             2.694             3.030          3.258             2.774   \n",
       "4             2.809             2.607          3.430             2.752   \n",
       "\n",
       "   fsCT_R_TE1m_ROI  fsCT_R_PI_ROI  fsCT_R_a32pr_ROI  fsCT_R_p24_ROI  \n",
       "0            3.354          2.629             2.699           3.179  \n",
       "1            3.282          2.670             2.746           3.324  \n",
       "2            3.116          2.891             2.940           3.232  \n",
       "3            3.383          2.696             3.014           3.264  \n",
       "4            2.645          3.111             3.219           4.128  \n",
       "\n",
       "[5 rows x 1440 columns]"
      ]
     },
     "execution_count": 3,
     "metadata": {},
     "output_type": "execute_result"
    }
   ],
   "source": [
    "# The filter() method allows us to select variables by name--\n",
    "# in this case, we put all features that match 'fs' in X_all.\n",
    "X_all = data.filter(like='fs')\n",
    "\n",
    "X_all.head()"
   ]
  },
  {
   "cell_type": "code",
   "execution_count": 24,
   "id": "affected-serial",
   "metadata": {},
   "outputs": [
    {
     "data": {
      "text/html": [
       "<div>\n",
       "<style scoped>\n",
       "    .dataframe tbody tr th:only-of-type {\n",
       "        vertical-align: middle;\n",
       "    }\n",
       "\n",
       "    .dataframe tbody tr th {\n",
       "        vertical-align: top;\n",
       "    }\n",
       "\n",
       "    .dataframe thead th {\n",
       "        text-align: right;\n",
       "    }\n",
       "</style>\n",
       "<table border=\"1\" class=\"dataframe\">\n",
       "  <thead>\n",
       "    <tr style=\"text-align: right;\">\n",
       "      <th></th>\n",
       "      <th>fsCT_R_a24_ROI</th>\n",
       "      <th>fsArea_R_d32_ROI</th>\n",
       "      <th>fsCT_L_PBelt_ROI</th>\n",
       "      <th>fsLGI_L_POS2_ROI</th>\n",
       "      <th>fsVol_L_FOP1_ROI</th>\n",
       "    </tr>\n",
       "  </thead>\n",
       "  <tbody>\n",
       "    <tr>\n",
       "      <th>0</th>\n",
       "      <td>3.392</td>\n",
       "      <td>358.0</td>\n",
       "      <td>2.564</td>\n",
       "      <td>641.23</td>\n",
       "      <td>434.0</td>\n",
       "    </tr>\n",
       "    <tr>\n",
       "      <th>1</th>\n",
       "      <td>3.548</td>\n",
       "      <td>302.0</td>\n",
       "      <td>2.673</td>\n",
       "      <td>715.53</td>\n",
       "      <td>585.0</td>\n",
       "    </tr>\n",
       "    <tr>\n",
       "      <th>2</th>\n",
       "      <td>2.834</td>\n",
       "      <td>581.0</td>\n",
       "      <td>2.939</td>\n",
       "      <td>708.54</td>\n",
       "      <td>519.0</td>\n",
       "    </tr>\n",
       "    <tr>\n",
       "      <th>3</th>\n",
       "      <td>2.940</td>\n",
       "      <td>473.0</td>\n",
       "      <td>2.437</td>\n",
       "      <td>828.24</td>\n",
       "      <td>646.0</td>\n",
       "    </tr>\n",
       "    <tr>\n",
       "      <th>4</th>\n",
       "      <td>3.859</td>\n",
       "      <td>435.0</td>\n",
       "      <td>2.852</td>\n",
       "      <td>812.84</td>\n",
       "      <td>662.0</td>\n",
       "    </tr>\n",
       "  </tbody>\n",
       "</table>\n",
       "</div>"
      ],
      "text/plain": [
       "   fsCT_R_a24_ROI  fsArea_R_d32_ROI  fsCT_L_PBelt_ROI  fsLGI_L_POS2_ROI  \\\n",
       "0           3.392             358.0             2.564            641.23   \n",
       "1           3.548             302.0             2.673            715.53   \n",
       "2           2.834             581.0             2.939            708.54   \n",
       "3           2.940             473.0             2.437            828.24   \n",
       "4           3.859             435.0             2.852            812.84   \n",
       "\n",
       "   fsVol_L_FOP1_ROI  \n",
       "0             434.0  \n",
       "1             585.0  \n",
       "2             519.0  \n",
       "3             646.0  \n",
       "4             662.0  "
      ]
     },
     "execution_count": 24,
     "metadata": {},
     "output_type": "execute_result"
    }
   ],
   "source": [
    "# for the sake of simplicity we'll only use a portion of the whole feature set\n",
    "N_FEATURES = 5\n",
    "\n",
    "# pandas DFs have a helpful sample() method for sampling rows/columns\n",
    "X_sample = X_all.sample(N_FEATURES, axis=1, random_state=100)\n",
    "\n",
    "X_sample.head()"
   ]
  },
  {
   "cell_type": "markdown",
   "id": "trying-redhead",
   "metadata": {},
   "source": [
    "### Train-Test Splitting\n",
    "\n",
    "The train-test split is a technique for evaluating the performance of a machine learning algorithm. It's a method that is mainly used for evaluation of supervised learning tasks.\n",
    "\n",
    "The procedure involves taking a dataset and dividing it into two subsets. The first subset is used to fit the model and is referred to as the **training dataset**. The second subset is *not used to train the model*. In fact, it should be left untouched and unseen. This subset will be used to investigate the performance of the predictions. This second dataset is referred to as the test dataset.\n",
    "\n",
    "- Train Dataset: Used to fit the machine learning model.\n",
    "- Test Dataset: Used to evaluate the model fit.\n",
    "\n",
    "<img src=\"../static/image7.png\" alt=\"Split structure\" style=\"width: 900px;\"/>\n",
    "\n",
    "\n",
    "#### Data leakage in machine learning\n",
    "\n",
    "Data leakage is a big problem in machine learning when developing predictive models. Data leakage is a term used to refer to when information from outside the training dataset (usually from the test dataset) is used for model fitting. Data leakage generally results in inflated performance evaluation.\n",
    "\n"
   ]
  },
  {
   "cell_type": "markdown",
   "id": "undefined-shopping",
   "metadata": {},
   "source": [
    "Let's do the train-test splitting from the beginning so that we're sure, there will be no data leakage. (We will not use the test split until evaluation steps.)"
   ]
  },
  {
   "cell_type": "code",
   "execution_count": 28,
   "id": "thorough-beatles",
   "metadata": {},
   "outputs": [
    {
     "name": "stdout",
     "output_type": "stream",
     "text": [
      "Train dataset shape: (804, 5)\n",
      "Test dataset shape: (200, 5)\n"
     ]
    }
   ],
   "source": [
    "# A fixed random seed for reproducibility\n",
    "split_random_seed = 123\n",
    "\n",
    "# Split feature set\n",
    "X_sample_train, X_sample_test = sklearn.model_selection.train_test_split(X_sample, test_size=200, random_state=split_random_seed)\n",
    "\n",
    "# Let's ensure sizes are valid\n",
    "print(f'Train dataset shape: {X_sample_train.shape}\\nTest dataset shape: {X_sample_test.shape}')\n"
   ]
  },
  {
   "cell_type": "code",
   "execution_count": 29,
   "id": "looking-orleans",
   "metadata": {},
   "outputs": [],
   "source": [
    "# Split the demographic information for later\n",
    "age = data['age']\n",
    "sex = data['sex']\n",
    "group = data['group']\n",
    "\n",
    "age_train, age_test = sklearn.model_selection.train_test_split(age, test_size=200, random_state=split_random_seed)\n",
    "sex_train, sex_test = sklearn.model_selection.train_test_split(sex, test_size=200, random_state=split_random_seed)\n",
    "group_train, group_test = sklearn.model_selection.train_test_split(group, test_size=200, random_state=split_random_seed)\n"
   ]
  },
  {
   "cell_type": "markdown",
   "id": "instant-growth",
   "metadata": {},
   "source": [
    "---\n",
    "## Estimators and cost functions\n",
    "\n",
    "### Estimators in scikit-learn: Basic usage\n",
    "One of scikit-learn's most attractive features is its unified, simple interface for configuring estimators and fitting models. A good deal of the package consists of a very large set of `Estimator` classes you can use to do various forms of machine learning. In scikit-learn, an `Estimator` does exactly what the word *estimator* normally means in statistics: it implements [\"a rule for calculating an estimate of a given quantity based on observed data\"](https://en.wikipedia.org/wiki/Estimator).\n",
    "\n",
    "While scikit-learn includes hundreds of different estimators that generate predictions in very different ways, they all share a common interface (or *API*). In particular, every estimator class implements `.fit()` and `.predict()` methods. When we call an estimator's `.fit()` method, we're telling it to take some training data—including a mandatory `X` matrix, and an optional `y` vector (if it's a supervised estimator)—and do something with it. In cases where `y` is present, the estimator is generally trying to learn how to predict the values of `y` from the values in `X`. Once it's done that, we can then call `predict()`, which takes another `X` matrix (either the same one as before, or a different one) and predicts corresponding `y` scores.\n",
    "\n",
    "A list of various estimators available through sklearn can be found [here](https://scikit-learn.org/stable/modules/classes.html). Selecting the appropriate estimator is a key step, and it usually creates a large degree of freedom for the researcher. Usually, prior knowledge about the features can help in choosing the estimator. However, some general rule of thumb recommendations exist too:\n",
    "\n",
    "<img src=\"../static/image8.png\" alt=\"Estimator selection\" style=\"width: 900px;\"/>\n",
    "\n",
    "(Figure from the [Sci-Kit learn's machine learning tutorial](https://scikit-learn.org/stable/tutorial/machine_learning_map/index.html))\n"
   ]
  },
  {
   "cell_type": "markdown",
   "id": "improving-breed",
   "metadata": {},
   "source": [
    "---\n",
    "## Regression estimators\n",
    "\n",
    "As explained previously, regression is a supervised learning approch to predict continuous data, i.e. the train dataset is used to learn the relationship between the feature set and a variable of interest.\n",
    "\n",
    "A regression problem arises any time we have a set of continuous numerical labels, and we're interested in using one or more features to try and predict those labels. Any bivariate relationship can be conceptualized as a regression of one variable on the other. For example, suppose we have the data displayed in this scatterplot:"
   ]
  },
  {
   "cell_type": "code",
   "execution_count": 37,
   "id": "compound-speaker",
   "metadata": {
    "jupyter": {
     "source_hidden": true
    },
    "tags": []
   },
   "outputs": [
    {
     "data": {
      "text/plain": [
       "Text(0, 0.5, 'y')"
      ]
     },
     "execution_count": 37,
     "metadata": {},
     "output_type": "execute_result"
    },
    {
     "data": {
      "image/png": "[encoded data removed]",
      "text/plain": [
       "<Figure size 432x432 with 1 Axes>"
      ]
     },
     "metadata": {
      "needs_background": "light"
     },
     "output_type": "display_data"
    }
   ],
   "source": [
    "# fix seed to produce deterministic results\n",
    "np.random.seed(123)\n",
    "\n",
    "x = np.random.normal(size=30)\n",
    "y = x * 1.2 + np.random.normal(size=30)\n",
    "\n",
    "fig, ax = plt.subplots(figsize=(6, 6))\n",
    "plt.scatter(x, y, s=50)\n",
    "plt.xlabel('x')\n",
    "plt.ylabel('y')\n"
   ]
  },
  {
   "cell_type": "markdown",
   "id": "fluid-familiar",
   "metadata": {},
   "source": [
    "We can frame this as a regression problem by saying that our goal is to generate the best possible prediction for `y` given knowledge of `x`.\n",
    "\n",
    "For instance, we can try to find a *linear* relationship that can predict y from x:"
   ]
  },
  {
   "cell_type": "code",
   "execution_count": 57,
   "id": "incorporated-official",
   "metadata": {
    "jupyter": {
     "source_hidden": true
    },
    "tags": []
   },
   "outputs": [
    {
     "data": {
      "text/plain": [
       "Text(0, 0.5, 'y')"
      ]
     },
     "execution_count": 57,
     "metadata": {},
     "output_type": "execute_result"
    },
    {
     "data": {
      "image/png": "[encoded data removed]",
      "text/plain": [
       "<Figure size 432x432 with 1 Axes>"
      ]
     },
     "metadata": {
      "needs_background": "light"
     },
     "output_type": "display_data"
    }
   ],
   "source": [
    "# fix seed to produce deterministic results\n",
    "np.random.seed(123)\n",
    "\n",
    "x = np.random.normal(size=30)\n",
    "y = x * 1.2 + np.random.normal(size=30)\n",
    "\n",
    "fig, ax = plt.subplots(figsize=(6, 6))\n",
    "sns.regplot(data=pd.DataFrame(np.array([x,y]).T, columns=['x','y']), x='x', y='y', ax=ax, ci=None)\n",
    "ax.set_xlim([-2.5,2.5])\n",
    "plt.xlabel('x')\n",
    "plt.ylabel('y')\n"
   ]
  },
  {
   "cell_type": "markdown",
   "id": "deadly-diploma",
   "metadata": {},
   "source": [
    "In our data, we are interested in predicting age from brain data. This concept is formally known as brain-age prediction.\n",
    "\n",
    "We can see how a measure of cortical thickness changes by age:"
   ]
  },
  {
   "cell_type": "code",
   "execution_count": 66,
   "id": "amber-morocco",
   "metadata": {
    "tags": []
   },
   "outputs": [
    {
     "data": {
      "text/plain": [
       "<AxesSubplot:xlabel='age', ylabel='fsVol_L_FOP1_ROI'>"
      ]
     },
     "execution_count": 66,
     "metadata": {},
     "output_type": "execute_result"
    },
    {
     "data": {
      "image/png": "[encoded data removed]",
      "text/plain": [
       "<Figure size 1296x432 with 3 Axes>"
      ]
     },
     "metadata": {
      "needs_background": "light"
     },
     "output_type": "display_data"
    }
   ],
   "source": [
    "# create a figure\n",
    "fig, axes = plt.subplots(ncols=3, figsize=(18, 6))\n",
    "\n",
    "# scatter brain data vs. age\n",
    "sns.scatterplot(y=data['fsCT_R_a24_ROI'], x=data['age'], ax=axes[0])\n",
    "sns.scatterplot(y=data['fsArea_R_d32_ROI'], x=data['age'], ax=axes[1])\n",
    "sns.scatterplot(y=data['fsVol_L_FOP1_ROI'], x=data['age'], ax=axes[2])\n"
   ]
  },
  {
   "cell_type": "markdown",
   "id": "logical-scout",
   "metadata": {},
   "source": [
    "The relationship is not as clear as it is with simulated data. However, we hope that we could exploit the capabilities of machine learning to predict an individual's age from a collective of brain information."
   ]
  },
  {
   "cell_type": "markdown",
   "id": "endangered-overall",
   "metadata": {},
   "source": [
    "Let's start with a simple model, and see how it goes:\n",
    "\n",
    "### Applying the LinearRegression() estimator\n",
    "To see this in action, let's try out one particular estimator in scikit-learn: \"ordinary\" least-squares (OLS) regression.\n",
    "\n"
   ]
  },
  {
   "cell_type": "markdown",
   "id": "committed-assembly",
   "metadata": {},
   "source": [
    "---\n",
    "## Classification estimators\n"
   ]
  },
  {
   "cell_type": "markdown",
   "id": "serious-confirmation",
   "metadata": {},
   "source": [
    "---\n",
    "## Clustering estimators"
   ]
  },
  {
   "cell_type": "markdown",
   "id": "sorted-masters",
   "metadata": {},
   "source": [
    "---\n",
    "## Dimensionality reduction estimators\n"
   ]
  },
  {
   "cell_type": "code",
   "execution_count": null,
   "id": "sustained-woman",
   "metadata": {},
   "outputs": [],
   "source": []
  }
 ],
 "metadata": {
  "kernelspec": {
   "display_name": "Python 3",
   "language": "python",
   "name": "python3"
  },
  "language_info": {
   "codemirror_mode": {
    "name": "ipython",
    "version": 3
   },
   "file_extension": ".py",
   "mimetype": "text/x-python",
   "name": "python",
   "nbconvert_exporter": "python",
   "pygments_lexer": "ipython3",
   "version": "3.8.5"
  }
 },
 "nbformat": 4,
 "nbformat_minor": 5
}
