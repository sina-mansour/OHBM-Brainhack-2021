{
 "cells": [
  {
   "cell_type": "markdown",
   "id": "numerical-closure",
   "metadata": {},
   "source": [
    "# Hands-on session: Machine Learning & Data Visualization\n",
    "---\n",
    "## 2 - Fitting ML models\n",
    "---\n"
   ]
  },
  {
   "cell_type": "markdown",
   "id": "racial-preservation",
   "metadata": {
    "tags": []
   },
   "source": [
    "How do I run this?\n",
    "\n",
    "[![Open In Colab](https://colab.research.google.com/assets/colab-badge.svg)](https://colab.research.google.com/github/sina-mansour/OHBM-Brainhack-2021)\n",
    "\n",
    "Gitpod?\n",
    "\n",
    "Binder?\n",
    "\n",
    "---"
   ]
  },
  {
   "cell_type": "markdown",
   "id": "monthly-rendering",
   "metadata": {},
   "source": [
    "## Train-Test splitting"
   ]
  },
  {
   "cell_type": "markdown",
   "id": "medium-scientist",
   "metadata": {},
   "source": [
    "---\n",
    "## Estimators and cost functions\n"
   ]
  },
  {
   "cell_type": "markdown",
   "id": "olympic-client",
   "metadata": {},
   "source": [
    "---\n",
    "## Regression estimators"
   ]
  },
  {
   "cell_type": "markdown",
   "id": "canadian-count",
   "metadata": {},
   "source": [
    "---\n",
    "## Classification estimators\n"
   ]
  },
  {
   "cell_type": "markdown",
   "id": "complete-graham",
   "metadata": {},
   "source": [
    "---\n",
    "## Clustering estimators"
   ]
  },
  {
   "cell_type": "markdown",
   "id": "bulgarian-newman",
   "metadata": {},
   "source": [
    "---\n",
    "## Dimensionality reduction estimators\n"
   ]
  },
  {
   "cell_type": "code",
   "execution_count": null,
   "id": "still-coaching",
   "metadata": {},
   "outputs": [],
   "source": []
  }
 ],
 "metadata": {
  "kernelspec": {
   "display_name": "Python 3",
   "language": "python",
   "name": "python3"
  },
  "language_info": {
   "codemirror_mode": {
    "name": "ipython",
    "version": 3
   },
   "file_extension": ".py",
   "mimetype": "text/x-python",
   "name": "python",
   "nbconvert_exporter": "python",
   "pygments_lexer": "ipython3",
   "version": "3.8.5"
  }
 },
 "nbformat": 4,
 "nbformat_minor": 5
}
