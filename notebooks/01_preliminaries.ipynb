{
 "cells": [
  {
   "cell_type": "markdown",
   "id": "literary-northeast",
   "metadata": {},
   "source": [
    "# Hands-on session: Machine Learning & Data Visualization\n",
    "---\n",
    "## 1 - Preliminary preparations\n",
    "---\n"
   ]
  },
  {
   "cell_type": "markdown",
   "id": "entire-maple",
   "metadata": {
    "tags": []
   },
   "source": [
    "How do I run this?\n",
    "\n",
    "[![Open In Colab](https://colab.research.google.com/assets/colab-badge.svg)](https://colab.research.google.com/github/sina-mansour/OHBM-Brainhack-2021)\n",
    "\n",
    "Gitpod?\n",
    "\n",
    "Binder?\n",
    "\n",
    "---"
   ]
  },
  {
   "cell_type": "markdown",
   "id": "english-zambia",
   "metadata": {},
   "source": [
    "package installation for google colab:"
   ]
  },
  {
   "cell_type": "code",
   "execution_count": null,
   "id": "growing-steam",
   "metadata": {},
   "outputs": [],
   "source": [
    "# install required packages for colab\n",
    "!pip install -r ../colab/requirements.txt\n"
   ]
  },
  {
   "cell_type": "markdown",
   "id": "successful-death",
   "metadata": {},
   "source": [
    "---\n",
    "\n",
    "Loading packages"
   ]
  },
  {
   "cell_type": "code",
   "execution_count": 36,
   "id": "early-michael",
   "metadata": {},
   "outputs": [],
   "source": [
    "# pandas for data handling\n",
    "import pandas as pd\n",
    "\n",
    "# matplotlib and seaborn for data visualization\n",
    "import matplotlib\n",
    "import matplotlib.pyplot as plt\n",
    "import seaborn as sns\n",
    "\n",
    "# setup inline plotting for jupyter\n",
    "%matplotlib inline\n",
    "\n",
    "# numpy for mathematical operations of data\n",
    "import numpy as np\n",
    "\n",
    "# nilearn and nibabel for handling neuroimaging data\n",
    "import nilearn.datasets as nidata\n",
    "import nilearn.plotting as niplot\n",
    "import nibabel as nib\n",
    "\n"
   ]
  },
  {
   "cell_type": "markdown",
   "id": "breeding-hazard",
   "metadata": {},
   "source": [
    "---\n",
    "\n",
    "## Dataset we're using:\n",
    "\n",
    "- The ABIDE dataset files sourced from [Neurohackacademy's git repository](https://github.com/neurohackademy/nh2020-curriculum/tree/master/tu-machine-learning-yarkoni). This data was originally used in [Tal Yarkoni's ML tutorial](https://www.youtube.com/watch?v=zvd8M8dwHxM).\n",
    "\n",
    "The data comes from the [Autism Brain Imaging Data Exchange II](http://fcon_1000.projects.nitrc.org/indi/abide/abide_II.html) (ABIDE II) project. ABIDE is a long-running effort to advance understanding of autism by aggregating and sharing autism-related structural and functional imaging datasets from around the world.\n",
    "\n",
    "It's allready downloaded and saved in the data directory. So we could directly open in with pandas.\n"
   ]
  },
  {
   "cell_type": "code",
   "execution_count": 17,
   "id": "compatible-highland",
   "metadata": {},
   "outputs": [],
   "source": [
    "# load the data from file\n",
    "\n",
    "# # this data could be downloaded from the souce with the command bellow:\n",
    "# data = pd.read_csv('https://github.com/neurohackademy/nh2020-curriculum/raw/master/tu-machine-learning-yarkoni/data/abide2.tsv', sep='\\t')\n",
    "\n",
    "# The data is already downloaded to the git repository files, so no need to download again\n",
    "data = pd.read_csv('../data/abide2.tsv', sep='\\t')\n",
    "\n"
   ]
  },
  {
   "cell_type": "markdown",
   "id": "happy-impossible",
   "metadata": {},
   "source": [
    "---\n",
    "## Handling dat with Pandas\n",
    "\n",
    "Pandas is the powerhorse package in handling datasets in python. It can be used for data preprocessing, cleaning, analyses, and storage.\n",
    "\n",
    "Pandas stores the data in a tabular format called a dataframe.\n",
    "\n",
    "We could check the contents of this dataframe using the `head` function to get a sense of what data we're looking at:\n"
   ]
  },
  {
   "cell_type": "code",
   "execution_count": 15,
   "id": "unknown-behavior",
   "metadata": {},
   "outputs": [
    {
     "data": {
      "text/html": [
       "<div>\n",
       "<style scoped>\n",
       "    .dataframe tbody tr th:only-of-type {\n",
       "        vertical-align: middle;\n",
       "    }\n",
       "\n",
       "    .dataframe tbody tr th {\n",
       "        vertical-align: top;\n",
       "    }\n",
       "\n",
       "    .dataframe thead th {\n",
       "        text-align: right;\n",
       "    }\n",
       "</style>\n",
       "<table border=\"1\" class=\"dataframe\">\n",
       "  <thead>\n",
       "    <tr style=\"text-align: right;\">\n",
       "      <th></th>\n",
       "      <th>site</th>\n",
       "      <th>subject</th>\n",
       "      <th>age</th>\n",
       "      <th>age_resid</th>\n",
       "      <th>sex</th>\n",
       "      <th>group</th>\n",
       "      <th>fsArea_L_V1_ROI</th>\n",
       "      <th>fsArea_L_MST_ROI</th>\n",
       "      <th>fsArea_L_V6_ROI</th>\n",
       "      <th>fsArea_L_V2_ROI</th>\n",
       "      <th>...</th>\n",
       "      <th>fsCT_R_p47r_ROI</th>\n",
       "      <th>fsCT_R_TGv_ROI</th>\n",
       "      <th>fsCT_R_MBelt_ROI</th>\n",
       "      <th>fsCT_R_LBelt_ROI</th>\n",
       "      <th>fsCT_R_A4_ROI</th>\n",
       "      <th>fsCT_R_STSva_ROI</th>\n",
       "      <th>fsCT_R_TE1m_ROI</th>\n",
       "      <th>fsCT_R_PI_ROI</th>\n",
       "      <th>fsCT_R_a32pr_ROI</th>\n",
       "      <th>fsCT_R_p24_ROI</th>\n",
       "    </tr>\n",
       "  </thead>\n",
       "  <tbody>\n",
       "    <tr>\n",
       "      <th>0</th>\n",
       "      <td>ABIDEII-KKI_1</td>\n",
       "      <td>29293</td>\n",
       "      <td>8.893151</td>\n",
       "      <td>13.642852</td>\n",
       "      <td>2.0</td>\n",
       "      <td>1.0</td>\n",
       "      <td>2750.0</td>\n",
       "      <td>306.0</td>\n",
       "      <td>354.0</td>\n",
       "      <td>2123.0</td>\n",
       "      <td>...</td>\n",
       "      <td>3.362</td>\n",
       "      <td>2.827</td>\n",
       "      <td>2.777</td>\n",
       "      <td>2.526</td>\n",
       "      <td>3.202</td>\n",
       "      <td>3.024</td>\n",
       "      <td>3.354</td>\n",
       "      <td>2.629</td>\n",
       "      <td>2.699</td>\n",
       "      <td>3.179</td>\n",
       "    </tr>\n",
       "    <tr>\n",
       "      <th>1</th>\n",
       "      <td>ABIDEII-OHSU_1</td>\n",
       "      <td>28997</td>\n",
       "      <td>12.000000</td>\n",
       "      <td>16.081732</td>\n",
       "      <td>2.0</td>\n",
       "      <td>1.0</td>\n",
       "      <td>2836.0</td>\n",
       "      <td>186.0</td>\n",
       "      <td>354.0</td>\n",
       "      <td>2261.0</td>\n",
       "      <td>...</td>\n",
       "      <td>2.809</td>\n",
       "      <td>3.539</td>\n",
       "      <td>2.944</td>\n",
       "      <td>2.769</td>\n",
       "      <td>3.530</td>\n",
       "      <td>3.079</td>\n",
       "      <td>3.282</td>\n",
       "      <td>2.670</td>\n",
       "      <td>2.746</td>\n",
       "      <td>3.324</td>\n",
       "    </tr>\n",
       "    <tr>\n",
       "      <th>2</th>\n",
       "      <td>ABIDEII-GU_1</td>\n",
       "      <td>28845</td>\n",
       "      <td>8.390000</td>\n",
       "      <td>12.866264</td>\n",
       "      <td>1.0</td>\n",
       "      <td>2.0</td>\n",
       "      <td>3394.0</td>\n",
       "      <td>223.0</td>\n",
       "      <td>373.0</td>\n",
       "      <td>2827.0</td>\n",
       "      <td>...</td>\n",
       "      <td>2.435</td>\n",
       "      <td>3.321</td>\n",
       "      <td>2.799</td>\n",
       "      <td>2.388</td>\n",
       "      <td>3.148</td>\n",
       "      <td>3.125</td>\n",
       "      <td>3.116</td>\n",
       "      <td>2.891</td>\n",
       "      <td>2.940</td>\n",
       "      <td>3.232</td>\n",
       "    </tr>\n",
       "    <tr>\n",
       "      <th>3</th>\n",
       "      <td>ABIDEII-NYU_1</td>\n",
       "      <td>29210</td>\n",
       "      <td>8.300000</td>\n",
       "      <td>13.698139</td>\n",
       "      <td>1.0</td>\n",
       "      <td>1.0</td>\n",
       "      <td>3382.0</td>\n",
       "      <td>266.0</td>\n",
       "      <td>422.0</td>\n",
       "      <td>2686.0</td>\n",
       "      <td>...</td>\n",
       "      <td>3.349</td>\n",
       "      <td>3.344</td>\n",
       "      <td>2.694</td>\n",
       "      <td>3.030</td>\n",
       "      <td>3.258</td>\n",
       "      <td>2.774</td>\n",
       "      <td>3.383</td>\n",
       "      <td>2.696</td>\n",
       "      <td>3.014</td>\n",
       "      <td>3.264</td>\n",
       "    </tr>\n",
       "    <tr>\n",
       "      <th>4</th>\n",
       "      <td>ABIDEII-EMC_1</td>\n",
       "      <td>29894</td>\n",
       "      <td>7.772758</td>\n",
       "      <td>14.772459</td>\n",
       "      <td>2.0</td>\n",
       "      <td>2.0</td>\n",
       "      <td>3080.0</td>\n",
       "      <td>161.0</td>\n",
       "      <td>346.0</td>\n",
       "      <td>2105.0</td>\n",
       "      <td>...</td>\n",
       "      <td>2.428</td>\n",
       "      <td>2.940</td>\n",
       "      <td>2.809</td>\n",
       "      <td>2.607</td>\n",
       "      <td>3.430</td>\n",
       "      <td>2.752</td>\n",
       "      <td>2.645</td>\n",
       "      <td>3.111</td>\n",
       "      <td>3.219</td>\n",
       "      <td>4.128</td>\n",
       "    </tr>\n",
       "  </tbody>\n",
       "</table>\n",
       "<p>5 rows × 1446 columns</p>\n",
       "</div>"
      ],
      "text/plain": [
       "             site  subject        age  age_resid  sex  group  fsArea_L_V1_ROI  \\\n",
       "0   ABIDEII-KKI_1    29293   8.893151  13.642852  2.0    1.0           2750.0   \n",
       "1  ABIDEII-OHSU_1    28997  12.000000  16.081732  2.0    1.0           2836.0   \n",
       "2    ABIDEII-GU_1    28845   8.390000  12.866264  1.0    2.0           3394.0   \n",
       "3   ABIDEII-NYU_1    29210   8.300000  13.698139  1.0    1.0           3382.0   \n",
       "4   ABIDEII-EMC_1    29894   7.772758  14.772459  2.0    2.0           3080.0   \n",
       "\n",
       "   fsArea_L_MST_ROI  fsArea_L_V6_ROI  fsArea_L_V2_ROI  ...  fsCT_R_p47r_ROI  \\\n",
       "0             306.0            354.0           2123.0  ...            3.362   \n",
       "1             186.0            354.0           2261.0  ...            2.809   \n",
       "2             223.0            373.0           2827.0  ...            2.435   \n",
       "3             266.0            422.0           2686.0  ...            3.349   \n",
       "4             161.0            346.0           2105.0  ...            2.428   \n",
       "\n",
       "   fsCT_R_TGv_ROI  fsCT_R_MBelt_ROI  fsCT_R_LBelt_ROI  fsCT_R_A4_ROI  \\\n",
       "0           2.827             2.777             2.526          3.202   \n",
       "1           3.539             2.944             2.769          3.530   \n",
       "2           3.321             2.799             2.388          3.148   \n",
       "3           3.344             2.694             3.030          3.258   \n",
       "4           2.940             2.809             2.607          3.430   \n",
       "\n",
       "   fsCT_R_STSva_ROI  fsCT_R_TE1m_ROI  fsCT_R_PI_ROI  fsCT_R_a32pr_ROI  \\\n",
       "0             3.024            3.354          2.629             2.699   \n",
       "1             3.079            3.282          2.670             2.746   \n",
       "2             3.125            3.116          2.891             2.940   \n",
       "3             2.774            3.383          2.696             3.014   \n",
       "4             2.752            2.645          3.111             3.219   \n",
       "\n",
       "   fsCT_R_p24_ROI  \n",
       "0           3.179  \n",
       "1           3.324  \n",
       "2           3.232  \n",
       "3           3.264  \n",
       "4           4.128  \n",
       "\n",
       "[5 rows x 1446 columns]"
      ]
     },
     "execution_count": 15,
     "metadata": {},
     "output_type": "execute_result"
    }
   ],
   "source": [
    "data.head()\n"
   ]
  },
  {
   "cell_type": "markdown",
   "id": "satellite-valuation",
   "metadata": {},
   "source": [
    "Every row represents a different person, and every column represents a different variable. In machine learning terminology, we typically refer to the rows and columns as **samples** and **features**, respectively. We can thus think of our data as a two-dimensional $n$ (samples) x $p$ (features) matrix. The vast majority of algorithms implemented in the scikit-learn package expect to receive numerical matrices of this kind as their primary inputs.\n",
    "\n",
    "#### Demographic/phenotypic data\n",
    "The columns in the dataframe come from two sources. The first 6 columns contain basic demographic/phenotypic information taken directly from the Composite Phenotypic File on the [ABIDE II project website](http://fcon_1000.projects.nitrc.org/indi/abide/abide_II.html). The most important demographic features are **age**, which will serve as the target of most of our predictive modeling efforts, and **group**, which displays the diagnosis group (1 = autism, 2 = control).\n",
    "\n",
    "#### Brain data\n",
    "The other 1,440 columns contain structural brain features extracted from the ABIDE II subjects' MRI scans using the [FreeSurfer](https://surfer.nmr.mgh.harvard.edu/) software package.  These come courtesy of Richard Bethlehem, who has shared these extracted features on a [GitHub repository](https://github.com/rb643/Normative_modeling). The data are used in an under-review paper; at present the citation is:\n",
    "\n",
    "> Richard A.I. Bethlehem, Jakob Seidlitz, Rafael Romero-Garcia, Guillaume Dumas, & Michael V. Lombardo. (2018, August 1). Normative age modelling of cortical thickness in autistic males (Version V2.1). Zenodo. http://doi.org/10.5281/zenodo.1325171\n",
    "\n",
    "The 1,440 features represent 4 sets of 360 features. The 4 variables extracted by FreeSurfer are surface area, volume, cortical thickness, and [local gyrification index](https://surfer.nmr.mgh.harvard.edu/fswiki/LGI). For each feature, there are 360 variables, representing the 360 parcels in the [Human Connectome Project Multi-Modal Parcellation atlas](https://www.ncbi.nlm.nih.gov/pmc/articles/PMC4990127/) (HCP-MMP1).\n",
    "\n",
    "Here's a closer look at this parcellation:"
   ]
  },
  {
   "cell_type": "code",
   "execution_count": 41,
   "id": "solar-backup",
   "metadata": {
    "tags": []
   },
   "outputs": [
    {
     "data": {
      "image/png": "[encoded data removed]",
      "text/plain": [
       "<Figure size 432x432 with 1 Axes>"
      ]
     },
     "metadata": {
      "needs_background": "light"
     },
     "output_type": "display_data"
    }
   ],
   "source": [
    "fig = plt.figure(figsize=(6, 6))\n",
    "out = niplot.plot_surf_roi(\"../data/left_inflated.surf.gii\", \"../data/left_HCP_MMP1.label.gii\", cmap='prism', figure=fig, title=\"HCP_MMP1\")\n"
   ]
  },
  {
   "cell_type": "markdown",
   "id": "stunning-violation",
   "metadata": {},
   "source": [
    "This visualization was generated using the nilearn's plotting packages. We'll have a closer look at this later in the data visualization section. If you like to check out other possible cortical visualizations that nilearn can handle, make sure to check [this link](https://nilearn.github.io/plotting/index.html)."
   ]
  },
  {
   "cell_type": "markdown",
   "id": "convinced-guyana",
   "metadata": {},
   "source": [
    "---\n",
    "## Inspecting the data\n",
    "\n",
    "Let's have a look at some basic plots to understand the data better.\n"
   ]
  },
  {
   "cell_type": "code",
   "execution_count": 46,
   "id": "hawaiian-pottery",
   "metadata": {},
   "outputs": [
    {
     "data": {
      "text/plain": [
       "<AxesSubplot:xlabel='age', ylabel='Count'>"
      ]
     },
     "execution_count": 46,
     "metadata": {},
     "output_type": "execute_result"
    },
    {
     "data": {
      "image/png": "[encoded data removed]",
      "text/plain": [
       "<Figure size 864x432 with 1 Axes>"
      ]
     },
     "metadata": {
      "needs_background": "light"
     },
     "output_type": "display_data"
    }
   ],
   "source": [
    "fig, ax = plt.subplots(figsize=(12, 6))\n",
    "sns.histplot(data=data, x='age', ax=ax)"
   ]
  },
  {
   "cell_type": "code",
   "execution_count": 52,
   "id": "thousand-forty",
   "metadata": {},
   "outputs": [
    {
     "data": {
      "text/plain": [
       "<AxesSubplot:xlabel='group', ylabel='age'>"
      ]
     },
     "execution_count": 52,
     "metadata": {},
     "output_type": "execute_result"
    },
    {
     "data": {
      "image/png": "[encoded data removed]",
      "text/plain": [
       "<Figure size 864x432 with 1 Axes>"
      ]
     },
     "metadata": {
      "needs_background": "light"
     },
     "output_type": "display_data"
    }
   ],
   "source": [
    "fig, ax = plt.subplots(figsize=(12, 6))\n",
    "sns.stripplot(data=data, x='group', y='age', ax=ax)"
   ]
  },
  {
   "cell_type": "markdown",
   "id": "owned-contamination",
   "metadata": {},
   "source": [
    "Now that we have the preliminaries out of the way, and have some data to play with, we can start doing machine learning!"
   ]
  },
  {
   "cell_type": "code",
   "execution_count": null,
   "id": "delayed-debate",
   "metadata": {},
   "outputs": [],
   "source": []
  }
 ],
 "metadata": {
  "kernelspec": {
   "display_name": "Python 3",
   "language": "python",
   "name": "python3"
  },
  "language_info": {
   "codemirror_mode": {
    "name": "ipython",
    "version": 3
   },
   "file_extension": ".py",
   "mimetype": "text/x-python",
   "name": "python",
   "nbconvert_exporter": "python",
   "pygments_lexer": "ipython3",
   "version": "3.8.5"
  }
 },
 "nbformat": 4,
 "nbformat_minor": 5
}
