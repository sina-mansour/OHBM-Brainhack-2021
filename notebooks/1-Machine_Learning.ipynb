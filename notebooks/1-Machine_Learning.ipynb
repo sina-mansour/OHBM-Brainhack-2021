{
 "cells": [
  {
   "cell_type": "markdown",
   "id": "dried-stanford",
   "metadata": {},
   "source": [
    "# Hands-on session: Machine Learning\n",
    "---"
   ]
  },
  {
   "cell_type": "markdown",
   "id": "arbitrary-prompt",
   "metadata": {
    "tags": []
   },
   "source": [
    "How do I run this?\n",
    "\n",
    "[![Open In Colab](https://colab.research.google.com/assets/colab-badge.svg)](https://colab.research.google.com/github/sina-mansour/OHBM-Brainhack-2021)\n",
    "\n",
    "Gitpod?\n",
    "\n",
    "Binder?\n",
    "\n",
    "---"
   ]
  },
  {
   "cell_type": "code",
   "execution_count": null,
   "id": "automotive-destination",
   "metadata": {},
   "outputs": [],
   "source": []
  }
 ],
 "metadata": {
  "kernelspec": {
   "display_name": "Python 3",
   "language": "python",
   "name": "python3"
  },
  "language_info": {
   "codemirror_mode": {
    "name": "ipython",
    "version": 3
   },
   "file_extension": ".py",
   "mimetype": "text/x-python",
   "name": "python",
   "nbconvert_exporter": "python",
   "pygments_lexer": "ipython3",
   "version": "3.8.5"
  }
 },
 "nbformat": 4,
 "nbformat_minor": 5
}
