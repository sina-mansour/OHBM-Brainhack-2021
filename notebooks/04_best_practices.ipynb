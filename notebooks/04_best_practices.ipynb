{
 "cells": [
  {
   "cell_type": "markdown",
   "id": "charitable-liverpool",
   "metadata": {},
   "source": [
    "# Hands-on session: Machine Learning & Data Visualization\n",
    "---\n",
    "## 4 - Best practices in ML pipelines\n",
    "---\n"
   ]
  },
  {
   "cell_type": "markdown",
   "id": "competitive-disabled",
   "metadata": {
    "tags": []
   },
   "source": [
    "How do I run this?\n",
    "\n",
    "[![Open In Colab](https://colab.research.google.com/assets/colab-badge.svg)](https://colab.research.google.com/github/sina-mansour/OHBM-Brainhack-2021)\n",
    "\n",
    "Gitpod?\n",
    "\n",
    "Binder?\n",
    "\n",
    "---"
   ]
  },
  {
   "cell_type": "markdown",
   "id": "peaceful-exemption",
   "metadata": {},
   "source": [
    "## Standardization"
   ]
  },
  {
   "cell_type": "markdown",
   "id": "parental-narrow",
   "metadata": {},
   "source": [
    "---\n",
    "## Confound regression"
   ]
  },
  {
   "cell_type": "markdown",
   "id": "posted-peeing",
   "metadata": {},
   "source": [
    "---\n",
    "## Cross-validation"
   ]
  },
  {
   "cell_type": "markdown",
   "id": "suspended-sculpture",
   "metadata": {},
   "source": [
    "---\n",
    "## Hyperparemeter tuning"
   ]
  },
  {
   "cell_type": "markdown",
   "id": "polar-longer",
   "metadata": {},
   "source": [
    "---\n",
    "## Evaluating overfitting vs. underfitting"
   ]
  },
  {
   "cell_type": "markdown",
   "id": "expanded-priority",
   "metadata": {},
   "source": []
  }
 ],
 "metadata": {
  "kernelspec": {
   "display_name": "Python 3",
   "language": "python",
   "name": "python3"
  },
  "language_info": {
   "codemirror_mode": {
    "name": "ipython",
    "version": 3
   },
   "file_extension": ".py",
   "mimetype": "text/x-python",
   "name": "python",
   "nbconvert_exporter": "python",
   "pygments_lexer": "ipython3",
   "version": "3.8.5"
  }
 },
 "nbformat": 4,
 "nbformat_minor": 5
}
