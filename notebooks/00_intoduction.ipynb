{
 "cells": [
  {
   "cell_type": "markdown",
   "id": "amber-height",
   "metadata": {},
   "source": [
    "# Hands-on session: Machine Learning & Data Visualization\n",
    "---\n",
    "## 0 - Introduction to Machine Learning & Data Visualization\n",
    "---\n"
   ]
  },
  {
   "cell_type": "markdown",
   "id": "recognized-joshua",
   "metadata": {
    "tags": []
   },
   "source": [
    "How do I use this?\n",
    "\n",
    "[![Open In Colab](https://colab.research.google.com/assets/colab-badge.svg)](https://colab.research.google.com/github/sina-mansour/OHBM-Brainhack-2021/blob/main/notebooks/00_intoduction.ipynb) | [![View the notebook](https://img.shields.io/badge/render-nbviewer-orange.svg)](https://nbviewer.jupyter.org/github/sina-mansour/OHBM-Brainhack-2021/blob/main/notebooks/00_intoduction.ipynb?flush_cache=true)\n",
    "\n",
    "---"
   ]
  },
  {
   "cell_type": "markdown",
   "id": "damaged-flavor",
   "metadata": {},
   "source": [
    "---\n",
    "\n",
    "Usefull resources that you may want to check out:\n",
    "\n",
    "### Machine Learning:\n",
    "\n",
    "- [Introduction to machine learning](https://www.youtube.com/watch?v=thLHAg8oOLw&list=PLfqBzCl5BL3-m9BH5qi4u4QzoJBC8Ze72&index=16) video from #BrainHackSchool\n",
    "\n",
    "- [Introduction to Machine Learning](https://www.youtube.com/watch?v=zvd8M8dwHxM) video from NeuroHackademy by Tal Yarkoni (code snippets of this talk is available [here](https://github.com/neurohackademy/intro_sklearn))\n",
    "\n",
    "- [Jake VanderPlas's Scikit-learn Tutorial](https://github.com/jakevdp/sklearn_tutorial) available in a git repository.\n",
    "\n",
    "- [Introduction to Machine Learning and Data Visualization with Python](https://github.com/martinagvilas/ML-Vis-BrainHack-2021) by Martina Vilas \n",
    "\n",
    "### Data Visualization\n",
    "\n",
    "- [Visualizing Data](https://www.youtube.com/watch?v=thLHAg8oOLw&list=PLfqBzCl5BL3-m9BH5qi4u4QzoJBC8Ze72&index=16) video from ABCD-ReproNim course\n",
    "\n",
    "---"
   ]
  },
  {
   "cell_type": "markdown",
   "id": "mounted-profession",
   "metadata": {},
   "source": [
    "## Supervised vs. Unsupervised Learning\n",
    "\n",
    "<img src=\"../static/image1.jpg\" alt=\"Supervised vs. Unsupervised Learning\" style=\"width: 900px;\"/>\n"
   ]
  },
  {
   "cell_type": "markdown",
   "id": "casual-corps",
   "metadata": {},
   "source": [
    "### Discrete vs. Continuous\n",
    "\n",
    "- **Classification**: discrete supervised Learning\n",
    "\n",
    "<img src=\"../static/image2.jpg\" alt=\"Classification\" style=\"width: 900px;\"/>\n"
   ]
  },
  {
   "cell_type": "markdown",
   "id": "freelance-compensation",
   "metadata": {},
   "source": [
    "- **Regression**: continuous supervised Learning\n",
    "\n",
    "<img src=\"../static/image3.png\" alt=\"Regression\" style=\"width: 900px;\"/>\n"
   ]
  },
  {
   "cell_type": "markdown",
   "id": "economic-tenant",
   "metadata": {},
   "source": [
    "- **Clustering**: discrete unsupervised Learning\n",
    "\n",
    "<img src=\"../static/image4.png\" alt=\"Clustering\" style=\"width: 900px;\"/>\n"
   ]
  },
  {
   "cell_type": "markdown",
   "id": "interstate-specific",
   "metadata": {},
   "source": [
    "- **Dimensionality reduction**: continuous unsupervised Learning\n",
    "\n",
    "<img src=\"../static/image5.jpg\" alt=\"Dimensionality reduction\" style=\"width: 900px;\"/>"
   ]
  },
  {
   "cell_type": "markdown",
   "id": "infinite-cooper",
   "metadata": {},
   "source": [
    "---\n",
    "\n",
    "## Session overview:\n",
    "\n",
    "We plan to design various machine learning models, understand how they work, compare their performances, and report our findings with proper visualization:\n",
    "\n",
    "Our goal can be broken into the following steps:\n",
    "\n",
    "1. Preliminaries:\n",
    "    - Importing packages\n",
    "    - Loading a dataset\n",
    "    - Handling data in a pandas dataframe\n",
    "    - Basic plots for data inspection\n",
    "\n",
    "\n",
    "2. Model fitting:\n",
    "    - Train-Test split concept\n",
    "    - Estimators and cost functions\n",
    "    - Regression estimators example\n",
    "    - Classification estimators example\n",
    "    - Clustering estimators example\n",
    "    - Dimensionality reduction estimators example\n",
    "\n",
    "\n",
    "3. Model evaluation:\n",
    "    - R2 score\n",
    "    - Mean Absolute Error\n",
    "    - Mean Squared Error\n",
    "    - Explained variance\n",
    "    - Pearson's correlation\n",
    "\n",
    "\n",
    "4. Best practices in ML pipelines:\n",
    "    - Standardization\n",
    "    - Confound regression\n",
    "    - Cross-validation\n",
    "    - Hyperparemeter tuning\n",
    "    - Evaluating overfitting vs. underfitting\n",
    "\n",
    "\n",
    "5. Data visualization:\n",
    "    - Scatter plots\n",
    "    - Line plots\n",
    "    - Histograms\n",
    "    - Subplots and overlays\n",
    "    - Neuroimaging visualizations\n"
   ]
  },
  {
   "cell_type": "code",
   "execution_count": null,
   "id": "mediterranean-scott",
   "metadata": {},
   "outputs": [],
   "source": []
  }
 ],
 "metadata": {
  "kernelspec": {
   "display_name": "Python 3",
   "language": "python",
   "name": "python3"
  },
  "language_info": {
   "codemirror_mode": {
    "name": "ipython",
    "version": 3
   },
   "file_extension": ".py",
   "mimetype": "text/x-python",
   "name": "python",
   "nbconvert_exporter": "python",
   "pygments_lexer": "ipython3",
   "version": "3.8.5"
  }
 },
 "nbformat": 4,
 "nbformat_minor": 5
}
